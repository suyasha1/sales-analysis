{
 "cells": [
  {
   "cell_type": "markdown",
   "id": "74bbd52f",
   "metadata": {},
   "source": [
    "# Sales Analysis of ABC Company\n",
    "\n",
    "<p> The data set contains the sales information about the ABC company of year 2019.The data includes the attributes such as Order ID, Product, Quantity Ordered, Price Each, Ordered Date and Purchase Address. The following page includes:\n",
    "    \n",
    "    1. Data Understanding\n",
    "    2. Data Preparation\n",
    "    3. Data Analysis\n",
    "    4. Data Exploration\n",
    "    \n",
    "</p>\n",
    "\n",
    "<p> Inorder to conduct the data analysis various python libraries have been used:\n",
    "    \n",
    "    - OS\n",
    "    - matplotlib\n",
    "    - Pandas\n",
    "</p>"
   ]
  },
  {
   "cell_type": "markdown",
   "id": "7b2c3073",
   "metadata": {},
   "source": [
    "## Data Preparation\n",
    "\n",
    "**Data Preparation**\n",
    ": It is defined as the process of taking raw data and getting it ready for ingestion in an analytics platform. Inorder to achieve the final stage of preparation, the data must be cleansed, formatted, and transformed into something which can be easily analysized by the computer.\n",
    "\n",
    "Data Preparation phase involves following process:\n",
    "\n",
    "-\tAccess the data.\n",
    "-\tFetch the data.\n",
    "-\tCleanse the data.\n",
    "-\tFormat the data.\n",
    "-\tCombine the data.\n",
    "-\tAnd analyse the data\n",
    "\n",
    "    \n",
    "\n"
   ]
  },
  {
   "cell_type": "markdown",
   "id": "0cbf46c5",
   "metadata": {},
   "source": [
    "\n",
    "# <mark> Importing python libraries </mark>\n",
    "\n",
    "- **matplotlib pyplot as plt:** this library is used for data visulization\n",
    "- **pandas as pd:** It is used for working with data sets.It has functions for analyzing, cleaning, exploring, and manipulating   data\n",
    "- **os:** It lets the user interact with the native OS Python is currently running on."
   ]
  },
  {
   "cell_type": "code",
   "execution_count": 1,
   "id": "2235612a",
   "metadata": {},
   "outputs": [],
   "source": [
    "# importing libraries\n",
    "\n",
    "import os\n",
    "import pandas as pd\n",
    "import matplotlib.pyplot as plt\n"
   ]
  },
  {
   "cell_type": "markdown",
   "id": "0772a87a",
   "metadata": {},
   "source": [
    "## listing all the files in the folder\n",
    "\n",
    "To list all the file in the \"S:/second year/smart data discovery/cw\" location **os.listdir** is used and the files are stored in the list in the form of list."
   ]
  },
  {
   "cell_type": "code",
   "execution_count": 2,
   "id": "0f5589c1",
   "metadata": {},
   "outputs": [
    {
     "data": {
      "text/plain": [
       "['22015819,Suyasha Adhikari.docx',\n",
       " 'CC5067NISmartDataandDiscoveryY23SpringMainSitCW.pdf',\n",
       " 'combine.csv',\n",
       " 'Sales_April_2019.csv',\n",
       " 'Sales_August_2019.csv',\n",
       " 'Sales_December_2019.csv',\n",
       " 'Sales_February_2019.csv',\n",
       " 'Sales_January_2019.csv',\n",
       " 'Sales_July_2019.csv',\n",
       " 'Sales_June_2019.csv',\n",
       " 'Sales_March_2019.csv',\n",
       " 'Sales_May_2019.csv',\n",
       " 'Sales_November_2019.csv',\n",
       " 'Sales_October_2019.csv',\n",
       " 'Sales_September_2019.csv']"
      ]
     },
     "execution_count": 2,
     "metadata": {},
     "output_type": "execute_result"
    }
   ],
   "source": [
    "path=\"S:/second year/smart data discovery/cw/\" # giving the location where CSV files are stored\n",
    "\n",
    "list=os.listdir(path)\n",
    "\n",
    "list\n",
    "    "
   ]
  },
  {
   "cell_type": "markdown",
   "id": "ecf0e5b7",
   "metadata": {},
   "source": [
    "## creating a new .csv file with combined data in same file path\n",
    "\n",
    "1. Firstly the files in list is read in df using pd.read_csv\n",
    "2. Then the content of df is transferred to final dataframe by using **concat**\n",
    "3. To create the combined CSV file **to_csv** is used"
   ]
  },
  {
   "cell_type": "code",
   "execution_count": 3,
   "id": "953d04f1",
   "metadata": {},
   "outputs": [],
   "source": [
    "final=pd.DataFrame()\n",
    "\n",
    "for i in list:\n",
    "    if i.endswith('.csv'):\n",
    "        df=pd.read_csv(path+i)\n",
    "        final=pd.concat([final,df])\n",
    "        \n",
    "final.to_csv(path+\"combine.csv\")"
   ]
  },
  {
   "cell_type": "markdown",
   "id": "1c3331b7",
   "metadata": {},
   "source": [
    "## Read in the updated dataframe\n",
    "\n",
    "<p>The csv file created is then read in new dataframe called combine_data using pd.read_csv</p>"
   ]
  },
  {
   "cell_type": "code",
   "execution_count": 4,
   "id": "301f39fd",
   "metadata": {},
   "outputs": [
    {
     "data": {
      "text/html": [
       "<div>\n",
       "<style scoped>\n",
       "    .dataframe tbody tr th:only-of-type {\n",
       "        vertical-align: middle;\n",
       "    }\n",
       "\n",
       "    .dataframe tbody tr th {\n",
       "        vertical-align: top;\n",
       "    }\n",
       "\n",
       "    .dataframe thead th {\n",
       "        text-align: right;\n",
       "    }\n",
       "</style>\n",
       "<table border=\"1\" class=\"dataframe\">\n",
       "  <thead>\n",
       "    <tr style=\"text-align: right;\">\n",
       "      <th></th>\n",
       "      <th>Unnamed: 0.1</th>\n",
       "      <th>Unnamed: 0</th>\n",
       "      <th>Order ID</th>\n",
       "      <th>Product</th>\n",
       "      <th>Quantity Ordered</th>\n",
       "      <th>Price Each</th>\n",
       "      <th>Order Date</th>\n",
       "      <th>Purchase Address</th>\n",
       "    </tr>\n",
       "  </thead>\n",
       "  <tbody>\n",
       "    <tr>\n",
       "      <th>0</th>\n",
       "      <td>0</td>\n",
       "      <td>0.0</td>\n",
       "      <td>176558.0</td>\n",
       "      <td>USB-C Charging Cable</td>\n",
       "      <td>2.0</td>\n",
       "      <td>11.95</td>\n",
       "      <td>4/19/2019 8:46</td>\n",
       "      <td>917 1st St, Dallas, TX 75001</td>\n",
       "    </tr>\n",
       "    <tr>\n",
       "      <th>1</th>\n",
       "      <td>1</td>\n",
       "      <td>1.0</td>\n",
       "      <td>NaN</td>\n",
       "      <td>NaN</td>\n",
       "      <td>NaN</td>\n",
       "      <td>NaN</td>\n",
       "      <td>NaN</td>\n",
       "      <td>NaN</td>\n",
       "    </tr>\n",
       "    <tr>\n",
       "      <th>2</th>\n",
       "      <td>2</td>\n",
       "      <td>2.0</td>\n",
       "      <td>176559.0</td>\n",
       "      <td>Bose SoundSport Headphones</td>\n",
       "      <td>1.0</td>\n",
       "      <td>99.99</td>\n",
       "      <td>4/7/2019 22:30</td>\n",
       "      <td>682 Chestnut St, Boston, MA 02215</td>\n",
       "    </tr>\n",
       "    <tr>\n",
       "      <th>3</th>\n",
       "      <td>3</td>\n",
       "      <td>3.0</td>\n",
       "      <td>176560.0</td>\n",
       "      <td>Google Phone</td>\n",
       "      <td>1.0</td>\n",
       "      <td>600.00</td>\n",
       "      <td>4/12/2019 14:38</td>\n",
       "      <td>669 Spruce St, Los Angeles, CA 90001</td>\n",
       "    </tr>\n",
       "    <tr>\n",
       "      <th>4</th>\n",
       "      <td>4</td>\n",
       "      <td>4.0</td>\n",
       "      <td>176560.0</td>\n",
       "      <td>Wired Headphones</td>\n",
       "      <td>1.0</td>\n",
       "      <td>11.99</td>\n",
       "      <td>4/12/2019 14:38</td>\n",
       "      <td>669 Spruce St, Los Angeles, CA 90001</td>\n",
       "    </tr>\n",
       "  </tbody>\n",
       "</table>\n",
       "</div>"
      ],
      "text/plain": [
       "   Unnamed: 0.1  Unnamed: 0  Order ID                     Product  \\\n",
       "0             0         0.0  176558.0        USB-C Charging Cable   \n",
       "1             1         1.0       NaN                         NaN   \n",
       "2             2         2.0  176559.0  Bose SoundSport Headphones   \n",
       "3             3         3.0  176560.0                Google Phone   \n",
       "4             4         4.0  176560.0            Wired Headphones   \n",
       "\n",
       "   Quantity Ordered  Price Each       Order Date  \\\n",
       "0               2.0       11.95   4/19/2019 8:46   \n",
       "1               NaN         NaN              NaN   \n",
       "2               1.0       99.99   4/7/2019 22:30   \n",
       "3               1.0      600.00  4/12/2019 14:38   \n",
       "4               1.0       11.99  4/12/2019 14:38   \n",
       "\n",
       "                       Purchase Address  \n",
       "0          917 1st St, Dallas, TX 75001  \n",
       "1                                   NaN  \n",
       "2     682 Chestnut St, Boston, MA 02215  \n",
       "3  669 Spruce St, Los Angeles, CA 90001  \n",
       "4  669 Spruce St, Los Angeles, CA 90001  "
      ]
     },
     "execution_count": 4,
     "metadata": {},
     "output_type": "execute_result"
    }
   ],
   "source": [
    "combine_data=pd.read_csv(path+\"combine.csv\")\n",
    "combine_data.head()"
   ]
  },
  {
   "cell_type": "code",
   "execution_count": 5,
   "id": "800d84b8",
   "metadata": {},
   "outputs": [
    {
     "data": {
      "text/plain": [
       "(373700, 8)"
      ]
     },
     "execution_count": 5,
     "metadata": {},
     "output_type": "execute_result"
    }
   ],
   "source": [
    "combine_data.shape # this gives the shape of the dataframe"
   ]
  },
  {
   "cell_type": "code",
   "execution_count": 6,
   "id": "24fc5c75",
   "metadata": {},
   "outputs": [
    {
     "data": {
      "text/plain": [
       "Index(['Unnamed: 0.1', 'Unnamed: 0', 'Order ID', 'Product', 'Quantity Ordered',\n",
       "       'Price Each', 'Order Date', 'Purchase Address'],\n",
       "      dtype='object')"
      ]
     },
     "execution_count": 6,
     "metadata": {},
     "output_type": "execute_result"
    }
   ],
   "source": [
    "combine_data.columns #this returns the list of columns in the dataframe"
   ]
  },
  {
   "cell_type": "code",
   "execution_count": 7,
   "id": "41c5e7f1",
   "metadata": {},
   "outputs": [
    {
     "data": {
      "text/plain": [
       "Unnamed: 0.1          int64\n",
       "Unnamed: 0          float64\n",
       "Order ID            float64\n",
       "Product              object\n",
       "Quantity Ordered    float64\n",
       "Price Each          float64\n",
       "Order Date           object\n",
       "Purchase Address     object\n",
       "dtype: object"
      ]
     },
     "execution_count": 7,
     "metadata": {},
     "output_type": "execute_result"
    }
   ],
   "source": [
    "combine_data.dtypes # this gives the datatype of the columns of the dataframe"
   ]
  },
  {
   "cell_type": "markdown",
   "id": "8430246c",
   "metadata": {},
   "source": [
    "## Removing the null value from updated dataframe\n",
    "\n",
    "As null data can cause errors in the process of data analysis it is necessary to remove them. To remove them firstly its necessary to know exactly where the null values are located. To find that the null value is seperated using **isna()** and then stored in the **null_df**. **null_df.head()** helps to see the content of the **null_df** dataframe.We can see that the null value is present in each column. \n",
    "\n",
    "Then **isnull().sum()** is used to find the no of null value in each column. \n",
    "\n",
    "Now the dropna() is used to drop the null value. By default dropna() dont make permanent changes so **combine_data=combine_data .dropna(how='any')** is used, this make permanent change. Or we can also use **inplace=True**. The **how='any'** used drops the row if any of the values in that row are missing. "
   ]
  },
  {
   "cell_type": "code",
   "execution_count": 8,
   "id": "87148447",
   "metadata": {},
   "outputs": [
    {
     "data": {
      "text/html": [
       "<div>\n",
       "<style scoped>\n",
       "    .dataframe tbody tr th:only-of-type {\n",
       "        vertical-align: middle;\n",
       "    }\n",
       "\n",
       "    .dataframe tbody tr th {\n",
       "        vertical-align: top;\n",
       "    }\n",
       "\n",
       "    .dataframe thead th {\n",
       "        text-align: right;\n",
       "    }\n",
       "</style>\n",
       "<table border=\"1\" class=\"dataframe\">\n",
       "  <thead>\n",
       "    <tr style=\"text-align: right;\">\n",
       "      <th></th>\n",
       "      <th>Unnamed: 0.1</th>\n",
       "      <th>Unnamed: 0</th>\n",
       "      <th>Order ID</th>\n",
       "      <th>Product</th>\n",
       "      <th>Quantity Ordered</th>\n",
       "      <th>Price Each</th>\n",
       "      <th>Order Date</th>\n",
       "      <th>Purchase Address</th>\n",
       "    </tr>\n",
       "  </thead>\n",
       "  <tbody>\n",
       "    <tr>\n",
       "      <th>1</th>\n",
       "      <td>1</td>\n",
       "      <td>1.0</td>\n",
       "      <td>NaN</td>\n",
       "      <td>NaN</td>\n",
       "      <td>NaN</td>\n",
       "      <td>NaN</td>\n",
       "      <td>NaN</td>\n",
       "      <td>NaN</td>\n",
       "    </tr>\n",
       "    <tr>\n",
       "      <th>356</th>\n",
       "      <td>356</td>\n",
       "      <td>356.0</td>\n",
       "      <td>NaN</td>\n",
       "      <td>NaN</td>\n",
       "      <td>NaN</td>\n",
       "      <td>NaN</td>\n",
       "      <td>NaN</td>\n",
       "      <td>NaN</td>\n",
       "    </tr>\n",
       "    <tr>\n",
       "      <th>519</th>\n",
       "      <td>519</td>\n",
       "      <td>519.0</td>\n",
       "      <td>NaN</td>\n",
       "      <td>NaN</td>\n",
       "      <td>NaN</td>\n",
       "      <td>NaN</td>\n",
       "      <td>NaN</td>\n",
       "      <td>NaN</td>\n",
       "    </tr>\n",
       "    <tr>\n",
       "      <th>735</th>\n",
       "      <td>735</td>\n",
       "      <td>735.0</td>\n",
       "      <td>NaN</td>\n",
       "      <td>NaN</td>\n",
       "      <td>NaN</td>\n",
       "      <td>NaN</td>\n",
       "      <td>NaN</td>\n",
       "      <td>NaN</td>\n",
       "    </tr>\n",
       "    <tr>\n",
       "      <th>1149</th>\n",
       "      <td>1149</td>\n",
       "      <td>1149.0</td>\n",
       "      <td>NaN</td>\n",
       "      <td>NaN</td>\n",
       "      <td>NaN</td>\n",
       "      <td>NaN</td>\n",
       "      <td>NaN</td>\n",
       "      <td>NaN</td>\n",
       "    </tr>\n",
       "  </tbody>\n",
       "</table>\n",
       "</div>"
      ],
      "text/plain": [
       "      Unnamed: 0.1  Unnamed: 0  Order ID Product  Quantity Ordered  \\\n",
       "1                1         1.0       NaN     NaN               NaN   \n",
       "356            356       356.0       NaN     NaN               NaN   \n",
       "519            519       519.0       NaN     NaN               NaN   \n",
       "735            735       735.0       NaN     NaN               NaN   \n",
       "1149          1149      1149.0       NaN     NaN               NaN   \n",
       "\n",
       "      Price Each Order Date Purchase Address  \n",
       "1            NaN        NaN              NaN  \n",
       "356          NaN        NaN              NaN  \n",
       "519          NaN        NaN              NaN  \n",
       "735          NaN        NaN              NaN  \n",
       "1149         NaN        NaN              NaN  "
      ]
     },
     "execution_count": 8,
     "metadata": {},
     "output_type": "execute_result"
    }
   ],
   "source": [
    "\n",
    "null_df=combine_data[combine_data.isna().any(axis=1)] #storing the null value in one dataframe to see the null value \n",
    "null_df.head()"
   ]
  },
  {
   "cell_type": "code",
   "execution_count": 9,
   "id": "c667c940",
   "metadata": {},
   "outputs": [
    {
     "data": {
      "text/plain": [
       "Unnamed: 0.1             0\n",
       "Unnamed: 0          186850\n",
       "Order ID              1800\n",
       "Product               1800\n",
       "Quantity Ordered      1800\n",
       "Price Each            1800\n",
       "Order Date            1800\n",
       "Purchase Address      1800\n",
       "dtype: int64"
      ]
     },
     "execution_count": 9,
     "metadata": {},
     "output_type": "execute_result"
    }
   ],
   "source": [
    "combine_data.isnull().sum() #gives the sum of null value of each column"
   ]
  },
  {
   "cell_type": "code",
   "execution_count": 10,
   "id": "b5273ae0",
   "metadata": {},
   "outputs": [],
   "source": [
    "combine_data=combine_data.dropna(how='any') #drop the null value from combine_data"
   ]
  },
  {
   "cell_type": "code",
   "execution_count": 11,
   "id": "72fe3f50",
   "metadata": {},
   "outputs": [
    {
     "data": {
      "text/plain": [
       "Unnamed: 0.1        0\n",
       "Unnamed: 0          0\n",
       "Order ID            0\n",
       "Product             0\n",
       "Quantity Ordered    0\n",
       "Price Each          0\n",
       "Order Date          0\n",
       "Purchase Address    0\n",
       "dtype: int64"
      ]
     },
     "execution_count": 11,
     "metadata": {},
     "output_type": "execute_result"
    }
   ],
   "source": [
    "combine_data.isnull().sum() # checking if null value are deleted"
   ]
  },
  {
   "cell_type": "code",
   "execution_count": 12,
   "id": "476e8c64",
   "metadata": {},
   "outputs": [
    {
     "data": {
      "text/plain": [
       "(185950, 8)"
      ]
     },
     "execution_count": 12,
     "metadata": {},
     "output_type": "execute_result"
    }
   ],
   "source": [
    "combine_data.shape # gives the shape of the dataframe"
   ]
  },
  {
   "cell_type": "markdown",
   "id": "b29d2a2e",
   "metadata": {},
   "source": [
    "# Changing Quantity Ordered and Price Each price to numeric\n",
    "\n",
    "Inoder to make calculation for the analysis of data we are required to change the OrderQuantity and Price Each to numeric. But when we use dtypes to see the datatype it can be seen it is already in float64 which is also numeric. So, there is no need to change it to numeric.\n",
    "\n",
    "We could have used **combine_data['Quantity Ordered']=combine_data['Quantity Ordered'].astype('int64')** to change Quantity Ordered to numeric and **combine_data['Price Each']=combine_data['Price Each'].astype('int64')** to change Price Each to numeric if it was in String ."
   ]
  },
  {
   "cell_type": "code",
   "execution_count": 13,
   "id": "ac098351",
   "metadata": {},
   "outputs": [
    {
     "data": {
      "text/plain": [
       "Unnamed: 0.1          int64\n",
       "Unnamed: 0          float64\n",
       "Order ID            float64\n",
       "Product              object\n",
       "Quantity Ordered    float64\n",
       "Price Each          float64\n",
       "Order Date           object\n",
       "Purchase Address     object\n",
       "dtype: object"
      ]
     },
     "execution_count": 13,
     "metadata": {},
     "output_type": "execute_result"
    }
   ],
   "source": [
    "combine_data.dtypes #checking datatype"
   ]
  },
  {
   "cell_type": "code",
   "execution_count": 14,
   "id": "8b2b298c",
   "metadata": {},
   "outputs": [],
   "source": [
    "#combine_data['Quantity Ordered']=combine_data['Quantity Ordered'].astype('int64')"
   ]
  },
  {
   "cell_type": "code",
   "execution_count": 15,
   "id": "868489b2",
   "metadata": {},
   "outputs": [],
   "source": [
    "#combine_data['Price Each']=combine_data['Price Each'].astype('int64')"
   ]
  },
  {
   "cell_type": "markdown",
   "id": "44af69ea",
   "metadata": {},
   "source": [
    "# Creating month column from order date and changing to int\n",
    "\n",
    "For creating month column we can apply **split('/')** in order date column and take the value of the index [0]. As the index [0] has the value of month in our dataset. Then the month column is converted into int dtype.\n",
    "\n",
    "We could have also change order date column into date dtype and then use the **dt.month** to take month from the order date."
   ]
  },
  {
   "cell_type": "code",
   "execution_count": 16,
   "id": "6a4ecdb9",
   "metadata": {},
   "outputs": [
    {
     "data": {
      "text/html": [
       "<div>\n",
       "<style scoped>\n",
       "    .dataframe tbody tr th:only-of-type {\n",
       "        vertical-align: middle;\n",
       "    }\n",
       "\n",
       "    .dataframe tbody tr th {\n",
       "        vertical-align: top;\n",
       "    }\n",
       "\n",
       "    .dataframe thead th {\n",
       "        text-align: right;\n",
       "    }\n",
       "</style>\n",
       "<table border=\"1\" class=\"dataframe\">\n",
       "  <thead>\n",
       "    <tr style=\"text-align: right;\">\n",
       "      <th></th>\n",
       "      <th>Unnamed: 0.1</th>\n",
       "      <th>Unnamed: 0</th>\n",
       "      <th>Order ID</th>\n",
       "      <th>Product</th>\n",
       "      <th>Quantity Ordered</th>\n",
       "      <th>Price Each</th>\n",
       "      <th>Order Date</th>\n",
       "      <th>Purchase Address</th>\n",
       "      <th>Month</th>\n",
       "    </tr>\n",
       "  </thead>\n",
       "  <tbody>\n",
       "    <tr>\n",
       "      <th>0</th>\n",
       "      <td>0</td>\n",
       "      <td>0.0</td>\n",
       "      <td>176558.0</td>\n",
       "      <td>USB-C Charging Cable</td>\n",
       "      <td>2.0</td>\n",
       "      <td>11.95</td>\n",
       "      <td>4/19/2019 8:46</td>\n",
       "      <td>917 1st St, Dallas, TX 75001</td>\n",
       "      <td>4</td>\n",
       "    </tr>\n",
       "    <tr>\n",
       "      <th>2</th>\n",
       "      <td>2</td>\n",
       "      <td>2.0</td>\n",
       "      <td>176559.0</td>\n",
       "      <td>Bose SoundSport Headphones</td>\n",
       "      <td>1.0</td>\n",
       "      <td>99.99</td>\n",
       "      <td>4/7/2019 22:30</td>\n",
       "      <td>682 Chestnut St, Boston, MA 02215</td>\n",
       "      <td>4</td>\n",
       "    </tr>\n",
       "    <tr>\n",
       "      <th>3</th>\n",
       "      <td>3</td>\n",
       "      <td>3.0</td>\n",
       "      <td>176560.0</td>\n",
       "      <td>Google Phone</td>\n",
       "      <td>1.0</td>\n",
       "      <td>600.00</td>\n",
       "      <td>4/12/2019 14:38</td>\n",
       "      <td>669 Spruce St, Los Angeles, CA 90001</td>\n",
       "      <td>4</td>\n",
       "    </tr>\n",
       "    <tr>\n",
       "      <th>4</th>\n",
       "      <td>4</td>\n",
       "      <td>4.0</td>\n",
       "      <td>176560.0</td>\n",
       "      <td>Wired Headphones</td>\n",
       "      <td>1.0</td>\n",
       "      <td>11.99</td>\n",
       "      <td>4/12/2019 14:38</td>\n",
       "      <td>669 Spruce St, Los Angeles, CA 90001</td>\n",
       "      <td>4</td>\n",
       "    </tr>\n",
       "    <tr>\n",
       "      <th>5</th>\n",
       "      <td>5</td>\n",
       "      <td>5.0</td>\n",
       "      <td>176561.0</td>\n",
       "      <td>Wired Headphones</td>\n",
       "      <td>1.0</td>\n",
       "      <td>11.99</td>\n",
       "      <td>4/30/2019 9:27</td>\n",
       "      <td>333 8th St, Los Angeles, CA 90001</td>\n",
       "      <td>4</td>\n",
       "    </tr>\n",
       "  </tbody>\n",
       "</table>\n",
       "</div>"
      ],
      "text/plain": [
       "   Unnamed: 0.1  Unnamed: 0  Order ID                     Product  \\\n",
       "0             0         0.0  176558.0        USB-C Charging Cable   \n",
       "2             2         2.0  176559.0  Bose SoundSport Headphones   \n",
       "3             3         3.0  176560.0                Google Phone   \n",
       "4             4         4.0  176560.0            Wired Headphones   \n",
       "5             5         5.0  176561.0            Wired Headphones   \n",
       "\n",
       "   Quantity Ordered  Price Each       Order Date  \\\n",
       "0               2.0       11.95   4/19/2019 8:46   \n",
       "2               1.0       99.99   4/7/2019 22:30   \n",
       "3               1.0      600.00  4/12/2019 14:38   \n",
       "4               1.0       11.99  4/12/2019 14:38   \n",
       "5               1.0       11.99   4/30/2019 9:27   \n",
       "\n",
       "                       Purchase Address Month  \n",
       "0          917 1st St, Dallas, TX 75001     4  \n",
       "2     682 Chestnut St, Boston, MA 02215     4  \n",
       "3  669 Spruce St, Los Angeles, CA 90001     4  \n",
       "4  669 Spruce St, Los Angeles, CA 90001     4  \n",
       "5     333 8th St, Los Angeles, CA 90001     4  "
      ]
     },
     "execution_count": 16,
     "metadata": {},
     "output_type": "execute_result"
    }
   ],
   "source": [
    "combine_data['Month']=combine_data['Order Date'].apply(lambda x:x.split('/')[0]) # taking month from order date\n",
    "\n",
    "combine_data.head()"
   ]
  },
  {
   "cell_type": "code",
   "execution_count": 17,
   "id": "86266c52",
   "metadata": {},
   "outputs": [],
   "source": [
    "combine_data['Month']=combine_data['Month'].astype('int32') # changing month to integer"
   ]
  },
  {
   "cell_type": "code",
   "execution_count": 18,
   "id": "fdf87281",
   "metadata": {},
   "outputs": [
    {
     "data": {
      "text/plain": [
       "Unnamed: 0.1          int64\n",
       "Unnamed: 0          float64\n",
       "Order ID            float64\n",
       "Product              object\n",
       "Quantity Ordered    float64\n",
       "Price Each          float64\n",
       "Order Date           object\n",
       "Purchase Address     object\n",
       "Month                 int32\n",
       "dtype: object"
      ]
     },
     "execution_count": 18,
     "metadata": {},
     "output_type": "execute_result"
    }
   ],
   "source": [
    "combine_data.dtypes # checking datatypes"
   ]
  },
  {
   "cell_type": "markdown",
   "id": "349297f1",
   "metadata": {},
   "source": [
    "# Creating city from purchase address\n",
    "\n",
    "The Purchase address column in the csv file has full address of the person who purchased. We are needed to make a seperate column for the city field of the address. For that **split(',')** is used to split the data in the column. As, the City is in the 1 index we fetch the data from index[1] and then store it in the City column."
   ]
  },
  {
   "cell_type": "code",
   "execution_count": 19,
   "id": "4b0e354c",
   "metadata": {},
   "outputs": [
    {
     "data": {
      "text/html": [
       "<div>\n",
       "<style scoped>\n",
       "    .dataframe tbody tr th:only-of-type {\n",
       "        vertical-align: middle;\n",
       "    }\n",
       "\n",
       "    .dataframe tbody tr th {\n",
       "        vertical-align: top;\n",
       "    }\n",
       "\n",
       "    .dataframe thead th {\n",
       "        text-align: right;\n",
       "    }\n",
       "</style>\n",
       "<table border=\"1\" class=\"dataframe\">\n",
       "  <thead>\n",
       "    <tr style=\"text-align: right;\">\n",
       "      <th></th>\n",
       "      <th>Unnamed: 0.1</th>\n",
       "      <th>Unnamed: 0</th>\n",
       "      <th>Order ID</th>\n",
       "      <th>Product</th>\n",
       "      <th>Quantity Ordered</th>\n",
       "      <th>Price Each</th>\n",
       "      <th>Order Date</th>\n",
       "      <th>Purchase Address</th>\n",
       "      <th>Month</th>\n",
       "      <th>City</th>\n",
       "    </tr>\n",
       "  </thead>\n",
       "  <tbody>\n",
       "    <tr>\n",
       "      <th>0</th>\n",
       "      <td>0</td>\n",
       "      <td>0.0</td>\n",
       "      <td>176558.0</td>\n",
       "      <td>USB-C Charging Cable</td>\n",
       "      <td>2.0</td>\n",
       "      <td>11.95</td>\n",
       "      <td>4/19/2019 8:46</td>\n",
       "      <td>917 1st St, Dallas, TX 75001</td>\n",
       "      <td>4</td>\n",
       "      <td>Dallas</td>\n",
       "    </tr>\n",
       "    <tr>\n",
       "      <th>2</th>\n",
       "      <td>2</td>\n",
       "      <td>2.0</td>\n",
       "      <td>176559.0</td>\n",
       "      <td>Bose SoundSport Headphones</td>\n",
       "      <td>1.0</td>\n",
       "      <td>99.99</td>\n",
       "      <td>4/7/2019 22:30</td>\n",
       "      <td>682 Chestnut St, Boston, MA 02215</td>\n",
       "      <td>4</td>\n",
       "      <td>Boston</td>\n",
       "    </tr>\n",
       "    <tr>\n",
       "      <th>3</th>\n",
       "      <td>3</td>\n",
       "      <td>3.0</td>\n",
       "      <td>176560.0</td>\n",
       "      <td>Google Phone</td>\n",
       "      <td>1.0</td>\n",
       "      <td>600.00</td>\n",
       "      <td>4/12/2019 14:38</td>\n",
       "      <td>669 Spruce St, Los Angeles, CA 90001</td>\n",
       "      <td>4</td>\n",
       "      <td>Los Angeles</td>\n",
       "    </tr>\n",
       "    <tr>\n",
       "      <th>4</th>\n",
       "      <td>4</td>\n",
       "      <td>4.0</td>\n",
       "      <td>176560.0</td>\n",
       "      <td>Wired Headphones</td>\n",
       "      <td>1.0</td>\n",
       "      <td>11.99</td>\n",
       "      <td>4/12/2019 14:38</td>\n",
       "      <td>669 Spruce St, Los Angeles, CA 90001</td>\n",
       "      <td>4</td>\n",
       "      <td>Los Angeles</td>\n",
       "    </tr>\n",
       "    <tr>\n",
       "      <th>5</th>\n",
       "      <td>5</td>\n",
       "      <td>5.0</td>\n",
       "      <td>176561.0</td>\n",
       "      <td>Wired Headphones</td>\n",
       "      <td>1.0</td>\n",
       "      <td>11.99</td>\n",
       "      <td>4/30/2019 9:27</td>\n",
       "      <td>333 8th St, Los Angeles, CA 90001</td>\n",
       "      <td>4</td>\n",
       "      <td>Los Angeles</td>\n",
       "    </tr>\n",
       "  </tbody>\n",
       "</table>\n",
       "</div>"
      ],
      "text/plain": [
       "   Unnamed: 0.1  Unnamed: 0  Order ID                     Product  \\\n",
       "0             0         0.0  176558.0        USB-C Charging Cable   \n",
       "2             2         2.0  176559.0  Bose SoundSport Headphones   \n",
       "3             3         3.0  176560.0                Google Phone   \n",
       "4             4         4.0  176560.0            Wired Headphones   \n",
       "5             5         5.0  176561.0            Wired Headphones   \n",
       "\n",
       "   Quantity Ordered  Price Each       Order Date  \\\n",
       "0               2.0       11.95   4/19/2019 8:46   \n",
       "2               1.0       99.99   4/7/2019 22:30   \n",
       "3               1.0      600.00  4/12/2019 14:38   \n",
       "4               1.0       11.99  4/12/2019 14:38   \n",
       "5               1.0       11.99   4/30/2019 9:27   \n",
       "\n",
       "                       Purchase Address  Month          City  \n",
       "0          917 1st St, Dallas, TX 75001      4        Dallas  \n",
       "2     682 Chestnut St, Boston, MA 02215      4        Boston  \n",
       "3  669 Spruce St, Los Angeles, CA 90001      4   Los Angeles  \n",
       "4  669 Spruce St, Los Angeles, CA 90001      4   Los Angeles  \n",
       "5     333 8th St, Los Angeles, CA 90001      4   Los Angeles  "
      ]
     },
     "execution_count": 19,
     "metadata": {},
     "output_type": "execute_result"
    }
   ],
   "source": [
    "combine_data['City']=combine_data['Purchase Address'].apply(lambda x:x.split(',')[1])\n",
    "#splitting Prchase Address data at (,) storing the value of index[1] at City column\n",
    " \n",
    "combine_data.head()"
   ]
  },
  {
   "cell_type": "markdown",
   "id": "99966ddf",
   "metadata": {},
   "source": [
    "## Finding the mean, std, skewness and kurtosis\n"
   ]
  },
  {
   "cell_type": "markdown",
   "id": "72803c1a",
   "metadata": {},
   "source": [
    "creating a new columnn **Total Sales** is created by multiplying **Quantity Ordered** and **Price Each** for calculating mean, std, skewness and kurtosis"
   ]
  },
  {
   "cell_type": "code",
   "execution_count": 20,
   "id": "6435305e",
   "metadata": {},
   "outputs": [
    {
     "data": {
      "text/html": [
       "<div>\n",
       "<style scoped>\n",
       "    .dataframe tbody tr th:only-of-type {\n",
       "        vertical-align: middle;\n",
       "    }\n",
       "\n",
       "    .dataframe tbody tr th {\n",
       "        vertical-align: top;\n",
       "    }\n",
       "\n",
       "    .dataframe thead th {\n",
       "        text-align: right;\n",
       "    }\n",
       "</style>\n",
       "<table border=\"1\" class=\"dataframe\">\n",
       "  <thead>\n",
       "    <tr style=\"text-align: right;\">\n",
       "      <th></th>\n",
       "      <th>Unnamed: 0.1</th>\n",
       "      <th>Unnamed: 0</th>\n",
       "      <th>Order ID</th>\n",
       "      <th>Product</th>\n",
       "      <th>Quantity Ordered</th>\n",
       "      <th>Price Each</th>\n",
       "      <th>Order Date</th>\n",
       "      <th>Purchase Address</th>\n",
       "      <th>Month</th>\n",
       "      <th>City</th>\n",
       "      <th>Total Sales</th>\n",
       "    </tr>\n",
       "  </thead>\n",
       "  <tbody>\n",
       "    <tr>\n",
       "      <th>186845</th>\n",
       "      <td>186845</td>\n",
       "      <td>11681.0</td>\n",
       "      <td>259353.0</td>\n",
       "      <td>AAA Batteries (4-pack)</td>\n",
       "      <td>3.0</td>\n",
       "      <td>2.99</td>\n",
       "      <td>9/17/2019 20:56</td>\n",
       "      <td>840 Highland St, Los Angeles, CA 90001</td>\n",
       "      <td>9</td>\n",
       "      <td>Los Angeles</td>\n",
       "      <td>8.97</td>\n",
       "    </tr>\n",
       "    <tr>\n",
       "      <th>186846</th>\n",
       "      <td>186846</td>\n",
       "      <td>11682.0</td>\n",
       "      <td>259354.0</td>\n",
       "      <td>iPhone</td>\n",
       "      <td>1.0</td>\n",
       "      <td>700.00</td>\n",
       "      <td>9/1/2019 16:00</td>\n",
       "      <td>216 Dogwood St, San Francisco, CA 94016</td>\n",
       "      <td>9</td>\n",
       "      <td>San Francisco</td>\n",
       "      <td>700.00</td>\n",
       "    </tr>\n",
       "    <tr>\n",
       "      <th>186847</th>\n",
       "      <td>186847</td>\n",
       "      <td>11683.0</td>\n",
       "      <td>259355.0</td>\n",
       "      <td>iPhone</td>\n",
       "      <td>1.0</td>\n",
       "      <td>700.00</td>\n",
       "      <td>9/23/2019 7:39</td>\n",
       "      <td>220 12th St, San Francisco, CA 94016</td>\n",
       "      <td>9</td>\n",
       "      <td>San Francisco</td>\n",
       "      <td>700.00</td>\n",
       "    </tr>\n",
       "    <tr>\n",
       "      <th>186848</th>\n",
       "      <td>186848</td>\n",
       "      <td>11684.0</td>\n",
       "      <td>259356.0</td>\n",
       "      <td>34in Ultrawide Monitor</td>\n",
       "      <td>1.0</td>\n",
       "      <td>379.99</td>\n",
       "      <td>9/19/2019 17:30</td>\n",
       "      <td>511 Forest St, San Francisco, CA 94016</td>\n",
       "      <td>9</td>\n",
       "      <td>San Francisco</td>\n",
       "      <td>379.99</td>\n",
       "    </tr>\n",
       "    <tr>\n",
       "      <th>186849</th>\n",
       "      <td>186849</td>\n",
       "      <td>11685.0</td>\n",
       "      <td>259357.0</td>\n",
       "      <td>USB-C Charging Cable</td>\n",
       "      <td>1.0</td>\n",
       "      <td>11.95</td>\n",
       "      <td>9/30/2019 0:18</td>\n",
       "      <td>250 Meadow St, San Francisco, CA 94016</td>\n",
       "      <td>9</td>\n",
       "      <td>San Francisco</td>\n",
       "      <td>11.95</td>\n",
       "    </tr>\n",
       "  </tbody>\n",
       "</table>\n",
       "</div>"
      ],
      "text/plain": [
       "        Unnamed: 0.1  Unnamed: 0  Order ID                 Product  \\\n",
       "186845        186845     11681.0  259353.0  AAA Batteries (4-pack)   \n",
       "186846        186846     11682.0  259354.0                  iPhone   \n",
       "186847        186847     11683.0  259355.0                  iPhone   \n",
       "186848        186848     11684.0  259356.0  34in Ultrawide Monitor   \n",
       "186849        186849     11685.0  259357.0    USB-C Charging Cable   \n",
       "\n",
       "        Quantity Ordered  Price Each       Order Date  \\\n",
       "186845               3.0        2.99  9/17/2019 20:56   \n",
       "186846               1.0      700.00   9/1/2019 16:00   \n",
       "186847               1.0      700.00   9/23/2019 7:39   \n",
       "186848               1.0      379.99  9/19/2019 17:30   \n",
       "186849               1.0       11.95   9/30/2019 0:18   \n",
       "\n",
       "                               Purchase Address  Month            City  \\\n",
       "186845   840 Highland St, Los Angeles, CA 90001      9     Los Angeles   \n",
       "186846  216 Dogwood St, San Francisco, CA 94016      9   San Francisco   \n",
       "186847     220 12th St, San Francisco, CA 94016      9   San Francisco   \n",
       "186848   511 Forest St, San Francisco, CA 94016      9   San Francisco   \n",
       "186849   250 Meadow St, San Francisco, CA 94016      9   San Francisco   \n",
       "\n",
       "        Total Sales  \n",
       "186845         8.97  \n",
       "186846       700.00  \n",
       "186847       700.00  \n",
       "186848       379.99  \n",
       "186849        11.95  "
      ]
     },
     "execution_count": 20,
     "metadata": {},
     "output_type": "execute_result"
    }
   ],
   "source": [
    "combine_data['Total Sales']=combine_data['Quantity Ordered']*combine_data['Price Each'] #creating Total Sales column\n",
    "combine_data.tail()"
   ]
  },
  {
   "cell_type": "code",
   "execution_count": 21,
   "id": "75614e32",
   "metadata": {},
   "outputs": [
    {
     "data": {
      "text/plain": [
       "185.49091675146175"
      ]
     },
     "execution_count": 21,
     "metadata": {},
     "output_type": "execute_result"
    }
   ],
   "source": [
    "mean_amount_spend = combine_data['Total Sales'].mean() #calculating mean\n",
    "mean_amount_spend"
   ]
  },
  {
   "cell_type": "code",
   "execution_count": 22,
   "id": "26e93985",
   "metadata": {},
   "outputs": [
    {
     "data": {
      "text/plain": [
       "332.91977138642756"
      ]
     },
     "execution_count": 22,
     "metadata": {},
     "output_type": "execute_result"
    }
   ],
   "source": [
    "std_amount_spend  = combine_data['Total Sales'].std() #calculating mean\n",
    "std_amount_spend "
   ]
  },
  {
   "cell_type": "code",
   "execution_count": 23,
   "id": "92cdc358",
   "metadata": {},
   "outputs": [
    {
     "data": {
      "text/plain": [
       "2.8819126688871703"
      ]
     },
     "execution_count": 23,
     "metadata": {},
     "output_type": "execute_result"
    }
   ],
   "source": [
    "skw_amount_spend  = combine_data['Total Sales'].skew()#calculating skewness\n",
    "skw_amount_spend"
   ]
  },
  {
   "cell_type": "code",
   "execution_count": 24,
   "id": "6c557eed",
   "metadata": {},
   "outputs": [
    {
     "data": {
      "text/plain": [
       "9.227075063658269"
      ]
     },
     "execution_count": 24,
     "metadata": {},
     "output_type": "execute_result"
    }
   ],
   "source": [
    "kuro_amount_spend  = combine_data['Total Sales'].kurtosis()#calculating kurtosis\n",
    "kuro_amount_spend"
   ]
  },
  {
   "cell_type": "markdown",
   "id": "caa6b785",
   "metadata": {},
   "source": [
    "## Creating Box plot for Total sales\n",
    "\n",
    "**Box Plot**\n",
    ":It is a graphical representation of a dataset that displays the distribution of the data along with measures of central tendency and variability.\n",
    "\n",
    "In boxplot the line in the rectangle represent the mean, the bottom part represent first quartile and the top represents third quartile. A vertical line that is drawn from the bottom of the rectangle is the minimum value of the data, and another line that is drawn from the top of the rectangle is the maximum value of the data. It also shows the presence of outlines, which is plotted outside the minimum and maximum value."
   ]
  },
  {
   "cell_type": "code",
   "execution_count": 25,
   "id": "e5f21cd8",
   "metadata": {},
   "outputs": [
    {
     "data": {
      "image/png": "[encoded data removed]",
      "text/plain": [
       "<Figure size 640x480 with 1 Axes>"
      ]
     },
     "metadata": {},
     "output_type": "display_data"
    }
   ],
   "source": [
    "plt.boxplot(combine_data['Total Sales'])\n",
    "plt.xlabel('Sales')\n",
    "plt.title('Boxplot of Sales')\n",
    "plt.show()"
   ]
  },
  {
   "cell_type": "code",
   "execution_count": 26,
   "id": "cc0a3a39",
   "metadata": {},
   "outputs": [
    {
     "data": {
      "text/plain": [
       "1.1243828986286637"
      ]
     },
     "execution_count": 26,
     "metadata": {},
     "output_type": "execute_result"
    }
   ],
   "source": [
    "mean_quantity_ordered = combine_data['Quantity Ordered'].mean()#calculating mean\n",
    "mean_quantity_ordered"
   ]
  },
  {
   "cell_type": "code",
   "execution_count": 27,
   "id": "8910cb3d",
   "metadata": {},
   "outputs": [
    {
     "data": {
      "text/plain": [
       "209079.0"
      ]
     },
     "execution_count": 27,
     "metadata": {},
     "output_type": "execute_result"
    }
   ],
   "source": [
    "sum_quantity_ordered = combine_data['Quantity Ordered'].sum()#calculating sum\n",
    "sum_quantity_ordered"
   ]
  },
  {
   "cell_type": "code",
   "execution_count": 28,
   "id": "85c7f8e4",
   "metadata": {},
   "outputs": [
    {
     "data": {
      "text/plain": [
       "0.44279262402849096"
      ]
     },
     "execution_count": 28,
     "metadata": {},
     "output_type": "execute_result"
    }
   ],
   "source": [
    "std_quantity_ordered = combine_data['Quantity Ordered'].std()#calculating std\n",
    "std_quantity_ordered "
   ]
  },
  {
   "cell_type": "code",
   "execution_count": 29,
   "id": "0952292e",
   "metadata": {},
   "outputs": [
    {
     "data": {
      "text/plain": [
       "4.833164172577953"
      ]
     },
     "execution_count": 29,
     "metadata": {},
     "output_type": "execute_result"
    }
   ],
   "source": [
    "skw_quantity_ordered = combine_data['Quantity Ordered'].skew()#calculating skewness\n",
    "skw_quantity_ordered "
   ]
  },
  {
   "cell_type": "code",
   "execution_count": 30,
   "id": "71bbc071",
   "metadata": {},
   "outputs": [
    {
     "data": {
      "text/plain": [
       "31.82048892027536"
      ]
     },
     "execution_count": 30,
     "metadata": {},
     "output_type": "execute_result"
    }
   ],
   "source": [
    "kuro_quantity_ordered = combine_data['Quantity Ordered'].kurtosis()#calculating kurtosis\n",
    "kuro_quantity_ordered "
   ]
  },
  {
   "cell_type": "markdown",
   "id": "2c4e2a33",
   "metadata": {},
   "source": [
    "## Creating Box plot for Quantity Ordered\n",
    "\n",
    "**Box Plot**\n",
    ":It is a graphical representation of a dataset that displays the distribution of the data along with measures of central tendency and variability.\n",
    "\n",
    "In boxplot the line in the rectangle represent the mean, the bottom part represent first quartile and the top represents third quartile. A vertical line that is drawn from the bottom of the rectangle is the minimum value of the data, and another line that is drawn from the top of the rectangle is the maximum value of the data. It also shows the presence of outlines, which is plotted outside the minimum and maximum value."
   ]
  },
  {
   "cell_type": "code",
   "execution_count": 31,
   "id": "db8d6b98",
   "metadata": {},
   "outputs": [
    {
     "data": {
      "image/png": "[encoded data removed]",
      "text/plain": [
       "<Figure size 640x480 with 1 Axes>"
      ]
     },
     "metadata": {},
     "output_type": "display_data"
    }
   ],
   "source": [
    "plt.boxplot(combine_data['Quantity Ordered'])\n",
    "plt.xlabel('Quantity Ordered')\n",
    "plt.title('Boxplot of Quantity Ordered')\n",
    "plt.show()"
   ]
  },
  {
   "cell_type": "markdown",
   "id": "62757af6",
   "metadata": {},
   "source": [
    "## Checking Correlation\n",
    "\n",
    "**Correlation**\n",
    ":Correlation is a statistical measure that quantifies the degree of association or relationship between two variables. It is commonly used in data analysis to determine whether and to what extent two variables are related.\n",
    "\n",
    "It is tested for statistical significance and correlation coefficient, r, quantifies the strength of the relationship. The correlation coefficient which ranges from -1 to +1. \n",
    "\n",
    "1. The closer r is to zero, the weaker the linear relationship.\n",
    "2. Positive r values indicate a positive correlation, where the values of both variables tend to increase together.\n",
    "3. Negative r values indicate a negative correlation, where the values of one variable tend to increase when the values of the other variable decrease."
   ]
  },
  {
   "cell_type": "code",
   "execution_count": 32,
   "id": "0bffdda3",
   "metadata": {},
   "outputs": [
    {
     "data": {
      "text/html": [
       "<div>\n",
       "<style scoped>\n",
       "    .dataframe tbody tr th:only-of-type {\n",
       "        vertical-align: middle;\n",
       "    }\n",
       "\n",
       "    .dataframe tbody tr th {\n",
       "        vertical-align: top;\n",
       "    }\n",
       "\n",
       "    .dataframe thead th {\n",
       "        text-align: right;\n",
       "    }\n",
       "</style>\n",
       "<table border=\"1\" class=\"dataframe\">\n",
       "  <thead>\n",
       "    <tr style=\"text-align: right;\">\n",
       "      <th></th>\n",
       "      <th>Unnamed: 0.1</th>\n",
       "      <th>Unnamed: 0</th>\n",
       "      <th>Order ID</th>\n",
       "      <th>Quantity Ordered</th>\n",
       "      <th>Price Each</th>\n",
       "      <th>Month</th>\n",
       "      <th>Total Sales</th>\n",
       "    </tr>\n",
       "  </thead>\n",
       "  <tbody>\n",
       "    <tr>\n",
       "      <th>Unnamed: 0.1</th>\n",
       "      <td>1.000000</td>\n",
       "      <td>0.034948</td>\n",
       "      <td>0.210779</td>\n",
       "      <td>-0.000496</td>\n",
       "      <td>-0.002209</td>\n",
       "      <td>0.236488</td>\n",
       "      <td>-0.002315</td>\n",
       "    </tr>\n",
       "    <tr>\n",
       "      <th>Unnamed: 0</th>\n",
       "      <td>0.034948</td>\n",
       "      <td>1.000000</td>\n",
       "      <td>0.357507</td>\n",
       "      <td>-0.003133</td>\n",
       "      <td>0.001471</td>\n",
       "      <td>0.266516</td>\n",
       "      <td>0.001373</td>\n",
       "    </tr>\n",
       "    <tr>\n",
       "      <th>Order ID</th>\n",
       "      <td>0.210779</td>\n",
       "      <td>0.357507</td>\n",
       "      <td>1.000000</td>\n",
       "      <td>0.000702</td>\n",
       "      <td>-0.002857</td>\n",
       "      <td>0.993063</td>\n",
       "      <td>-0.002949</td>\n",
       "    </tr>\n",
       "    <tr>\n",
       "      <th>Quantity Ordered</th>\n",
       "      <td>-0.000496</td>\n",
       "      <td>-0.003133</td>\n",
       "      <td>0.000702</td>\n",
       "      <td>1.000000</td>\n",
       "      <td>-0.148272</td>\n",
       "      <td>0.000791</td>\n",
       "      <td>-0.139417</td>\n",
       "    </tr>\n",
       "    <tr>\n",
       "      <th>Price Each</th>\n",
       "      <td>-0.002209</td>\n",
       "      <td>0.001471</td>\n",
       "      <td>-0.002857</td>\n",
       "      <td>-0.148272</td>\n",
       "      <td>1.000000</td>\n",
       "      <td>-0.003375</td>\n",
       "      <td>0.999203</td>\n",
       "    </tr>\n",
       "    <tr>\n",
       "      <th>Month</th>\n",
       "      <td>0.236488</td>\n",
       "      <td>0.266516</td>\n",
       "      <td>0.993063</td>\n",
       "      <td>0.000791</td>\n",
       "      <td>-0.003375</td>\n",
       "      <td>1.000000</td>\n",
       "      <td>-0.003466</td>\n",
       "    </tr>\n",
       "    <tr>\n",
       "      <th>Total Sales</th>\n",
       "      <td>-0.002315</td>\n",
       "      <td>0.001373</td>\n",
       "      <td>-0.002949</td>\n",
       "      <td>-0.139417</td>\n",
       "      <td>0.999203</td>\n",
       "      <td>-0.003466</td>\n",
       "      <td>1.000000</td>\n",
       "    </tr>\n",
       "  </tbody>\n",
       "</table>\n",
       "</div>"
      ],
      "text/plain": [
       "                  Unnamed: 0.1  Unnamed: 0  Order ID  Quantity Ordered  \\\n",
       "Unnamed: 0.1          1.000000    0.034948  0.210779         -0.000496   \n",
       "Unnamed: 0            0.034948    1.000000  0.357507         -0.003133   \n",
       "Order ID              0.210779    0.357507  1.000000          0.000702   \n",
       "Quantity Ordered     -0.000496   -0.003133  0.000702          1.000000   \n",
       "Price Each           -0.002209    0.001471 -0.002857         -0.148272   \n",
       "Month                 0.236488    0.266516  0.993063          0.000791   \n",
       "Total Sales          -0.002315    0.001373 -0.002949         -0.139417   \n",
       "\n",
       "                  Price Each     Month  Total Sales  \n",
       "Unnamed: 0.1       -0.002209  0.236488    -0.002315  \n",
       "Unnamed: 0          0.001471  0.266516     0.001373  \n",
       "Order ID           -0.002857  0.993063    -0.002949  \n",
       "Quantity Ordered   -0.148272  0.000791    -0.139417  \n",
       "Price Each          1.000000 -0.003375     0.999203  \n",
       "Month              -0.003375  1.000000    -0.003466  \n",
       "Total Sales         0.999203 -0.003466     1.000000  "
      ]
     },
     "execution_count": 32,
     "metadata": {},
     "output_type": "execute_result"
    }
   ],
   "source": [
    "combine_data.corr()"
   ]
  },
  {
   "cell_type": "markdown",
   "id": "4a5152b2",
   "metadata": {},
   "source": [
    "In the following data we can see the value closer to zero. This shows the weak correlation between the columns. The highest positive correlation that we can see is **0.993063** between **Month and Order ID**. While the highest negative correlation is \n",
    "**-0.002949** between **Total price and Order ID**"
   ]
  },
  {
   "cell_type": "markdown",
   "id": "808bad1f",
   "metadata": {},
   "source": [
    "## Which Month has the best sales? and how much was the earning in that month? Make a bar graph of sales as well. "
   ]
  },
  {
   "cell_type": "markdown",
   "id": "897d2a3f",
   "metadata": {},
   "source": [
    "Firstly finding the total sales of each month by using **month_results=combine_data.groupby('Month')['Total Price'].sum().reset _index()**\n",
    "\n",
    "Groupby is used to group the data which has same month and then Total Sales is added. The reset_index is used to change the column name."
   ]
  },
  {
   "cell_type": "code",
   "execution_count": 33,
   "id": "6945649b",
   "metadata": {},
   "outputs": [
    {
     "data": {
      "text/html": [
       "<div>\n",
       "<style scoped>\n",
       "    .dataframe tbody tr th:only-of-type {\n",
       "        vertical-align: middle;\n",
       "    }\n",
       "\n",
       "    .dataframe tbody tr th {\n",
       "        vertical-align: top;\n",
       "    }\n",
       "\n",
       "    .dataframe thead th {\n",
       "        text-align: right;\n",
       "    }\n",
       "</style>\n",
       "<table border=\"1\" class=\"dataframe\">\n",
       "  <thead>\n",
       "    <tr style=\"text-align: right;\">\n",
       "      <th></th>\n",
       "      <th>Month</th>\n",
       "      <th>Total Sales</th>\n",
       "    </tr>\n",
       "  </thead>\n",
       "  <tbody>\n",
       "    <tr>\n",
       "      <th>0</th>\n",
       "      <td>1</td>\n",
       "      <td>1822256.73</td>\n",
       "    </tr>\n",
       "    <tr>\n",
       "      <th>1</th>\n",
       "      <td>2</td>\n",
       "      <td>2202022.42</td>\n",
       "    </tr>\n",
       "    <tr>\n",
       "      <th>2</th>\n",
       "      <td>3</td>\n",
       "      <td>2807100.38</td>\n",
       "    </tr>\n",
       "    <tr>\n",
       "      <th>3</th>\n",
       "      <td>4</td>\n",
       "      <td>3390670.24</td>\n",
       "    </tr>\n",
       "    <tr>\n",
       "      <th>4</th>\n",
       "      <td>5</td>\n",
       "      <td>3152606.75</td>\n",
       "    </tr>\n",
       "    <tr>\n",
       "      <th>5</th>\n",
       "      <td>6</td>\n",
       "      <td>2577802.26</td>\n",
       "    </tr>\n",
       "    <tr>\n",
       "      <th>6</th>\n",
       "      <td>7</td>\n",
       "      <td>2647775.76</td>\n",
       "    </tr>\n",
       "    <tr>\n",
       "      <th>7</th>\n",
       "      <td>8</td>\n",
       "      <td>2244467.88</td>\n",
       "    </tr>\n",
       "    <tr>\n",
       "      <th>8</th>\n",
       "      <td>9</td>\n",
       "      <td>2097560.13</td>\n",
       "    </tr>\n",
       "    <tr>\n",
       "      <th>9</th>\n",
       "      <td>10</td>\n",
       "      <td>3736726.88</td>\n",
       "    </tr>\n",
       "    <tr>\n",
       "      <th>10</th>\n",
       "      <td>11</td>\n",
       "      <td>3199603.20</td>\n",
       "    </tr>\n",
       "    <tr>\n",
       "      <th>11</th>\n",
       "      <td>12</td>\n",
       "      <td>4613443.34</td>\n",
       "    </tr>\n",
       "  </tbody>\n",
       "</table>\n",
       "</div>"
      ],
      "text/plain": [
       "    Month  Total Sales\n",
       "0       1   1822256.73\n",
       "1       2   2202022.42\n",
       "2       3   2807100.38\n",
       "3       4   3390670.24\n",
       "4       5   3152606.75\n",
       "5       6   2577802.26\n",
       "6       7   2647775.76\n",
       "7       8   2244467.88\n",
       "8       9   2097560.13\n",
       "9      10   3736726.88\n",
       "10     11   3199603.20\n",
       "11     12   4613443.34"
      ]
     },
     "execution_count": 33,
     "metadata": {},
     "output_type": "execute_result"
    }
   ],
   "source": [
    "month_results=combine_data.groupby('Month')['Total Sales'].sum().reset_index(name='Total Sales')\n",
    "month_results"
   ]
  },
  {
   "cell_type": "code",
   "execution_count": 34,
   "id": "269db41d",
   "metadata": {},
   "outputs": [
    {
     "data": {
      "text/plain": [
       "Month               12.00\n",
       "Total Sales    4613443.34\n",
       "dtype: float64"
      ]
     },
     "execution_count": 34,
     "metadata": {},
     "output_type": "execute_result"
    }
   ],
   "source": [
    "month_results.max()# this finds the month with maximum saleD"
   ]
  },
  {
   "cell_type": "markdown",
   "id": "aec37536",
   "metadata": {},
   "source": [
    "## Plotting for monthly sales"
   ]
  },
  {
   "cell_type": "code",
   "execution_count": 35,
   "id": "519f6942",
   "metadata": {},
   "outputs": [
    {
     "data": {
      "image/png": "[encoded data removed]",
      "text/plain": [
       "<Figure size 640x480 with 1 Axes>"
      ]
     },
     "metadata": {},
     "output_type": "display_data"
    }
   ],
   "source": [
    "\n",
    "plt.bar(month_results['Month'],month_results['Total Sales'],color='darkslategrey')# for plotting\n",
    "plt.ylabel('sales')# for y label\n",
    "plt.xlabel('Months (in number)')# for x label\n",
    "plt.title('2019 Monthly Performance Insights (ABC Company)')#for title of bar graph\n",
    "plt.show()"
   ]
  },
  {
   "cell_type": "markdown",
   "id": "44cc9dff",
   "metadata": {},
   "source": [
    "From the graph we can find that **december** has highest sales while **january** has lowest sale"
   ]
  },
  {
   "cell_type": "markdown",
   "id": "f988f2e4",
   "metadata": {},
   "source": [
    "##  Which city has sold the highest product?\n",
    "\n",
    "Firstly finding the total sales of each city by using **combine_data.groupby('City').sum()['Total Sales'].reset_index()**\n",
    "\n",
    "Groupby is used to group the data which has same city and then Total Sales is added. The reset_index is used to change the column name."
   ]
  },
  {
   "cell_type": "code",
   "execution_count": 36,
   "id": "96075baf",
   "metadata": {},
   "outputs": [
    {
     "data": {
      "text/html": [
       "<div>\n",
       "<style scoped>\n",
       "    .dataframe tbody tr th:only-of-type {\n",
       "        vertical-align: middle;\n",
       "    }\n",
       "\n",
       "    .dataframe tbody tr th {\n",
       "        vertical-align: top;\n",
       "    }\n",
       "\n",
       "    .dataframe thead th {\n",
       "        text-align: right;\n",
       "    }\n",
       "</style>\n",
       "<table border=\"1\" class=\"dataframe\">\n",
       "  <thead>\n",
       "    <tr style=\"text-align: right;\">\n",
       "      <th></th>\n",
       "      <th>City</th>\n",
       "      <th>Total Sales</th>\n",
       "    </tr>\n",
       "  </thead>\n",
       "  <tbody>\n",
       "    <tr>\n",
       "      <th>0</th>\n",
       "      <td>Atlanta</td>\n",
       "      <td>2795498.58</td>\n",
       "    </tr>\n",
       "    <tr>\n",
       "      <th>1</th>\n",
       "      <td>Austin</td>\n",
       "      <td>1819581.75</td>\n",
       "    </tr>\n",
       "    <tr>\n",
       "      <th>2</th>\n",
       "      <td>Boston</td>\n",
       "      <td>3661642.01</td>\n",
       "    </tr>\n",
       "    <tr>\n",
       "      <th>3</th>\n",
       "      <td>Dallas</td>\n",
       "      <td>2767975.40</td>\n",
       "    </tr>\n",
       "    <tr>\n",
       "      <th>4</th>\n",
       "      <td>Los Angeles</td>\n",
       "      <td>5452570.80</td>\n",
       "    </tr>\n",
       "    <tr>\n",
       "      <th>5</th>\n",
       "      <td>New York City</td>\n",
       "      <td>4664317.43</td>\n",
       "    </tr>\n",
       "    <tr>\n",
       "      <th>6</th>\n",
       "      <td>Portland</td>\n",
       "      <td>2320490.61</td>\n",
       "    </tr>\n",
       "    <tr>\n",
       "      <th>7</th>\n",
       "      <td>San Francisco</td>\n",
       "      <td>8262203.91</td>\n",
       "    </tr>\n",
       "    <tr>\n",
       "      <th>8</th>\n",
       "      <td>Seattle</td>\n",
       "      <td>2747755.48</td>\n",
       "    </tr>\n",
       "  </tbody>\n",
       "</table>\n",
       "</div>"
      ],
      "text/plain": [
       "             City  Total Sales\n",
       "0         Atlanta   2795498.58\n",
       "1          Austin   1819581.75\n",
       "2          Boston   3661642.01\n",
       "3          Dallas   2767975.40\n",
       "4     Los Angeles   5452570.80\n",
       "5   New York City   4664317.43\n",
       "6        Portland   2320490.61\n",
       "7   San Francisco   8262203.91\n",
       "8         Seattle   2747755.48"
      ]
     },
     "execution_count": 36,
     "metadata": {},
     "output_type": "execute_result"
    }
   ],
   "source": [
    "city_results=combine_data.groupby('City').sum()['Total Sales'].reset_index(name='Total Sales')\n",
    "city_results"
   ]
  },
  {
   "cell_type": "markdown",
   "id": "13112cfd",
   "metadata": {},
   "source": [
    "## Plotting the graph for City sales"
   ]
  },
  {
   "cell_type": "code",
   "execution_count": 37,
   "id": "124ae53d",
   "metadata": {},
   "outputs": [
    {
     "data": {
      "image/png": "[encoded data removed]",
      "text/plain": [
       "<Figure size 640x480 with 1 Axes>"
      ]
     },
     "metadata": {},
     "output_type": "display_data"
    }
   ],
   "source": [
    "\n",
    "plt.bar(city_results['City'],city_results['Total Sales'],color='darkslategrey')#for plotting\n",
    "plt.xticks(rotation=90,size=7)# for rotation of x index\n",
    "plt.ylabel('Sales')#for y label\n",
    "plt.xlabel('City')#for y label\n",
    "plt.title('2019 City Sales Comparison (ABC Company)')# for title\n",
    "plt.show()"
   ]
  },
  {
   "cell_type": "markdown",
   "id": "4bd7cb9a",
   "metadata": {},
   "source": [
    "From graph we can find **San Francisco** has highest sale while **Austin** has lowest sale"
   ]
  },
  {
   "cell_type": "markdown",
   "id": "e8b063a8",
   "metadata": {},
   "source": [
    "## Which product was sold the most in overall? Illustrate it through bar \n"
   ]
  },
  {
   "cell_type": "markdown",
   "id": "386df4cf",
   "metadata": {},
   "source": [
    "Firstly finding the total order of each product by using **combine_data.groupby('Product')['Quantity Ordered'].sum().reset_ index(name='Total Order')**\n",
    "\n",
    "Groupby is used to group the data which as same product name and then quantity ordered is added. The reset_index is used to change the column name."
   ]
  },
  {
   "cell_type": "code",
   "execution_count": 38,
   "id": "6ca19316",
   "metadata": {},
   "outputs": [
    {
     "data": {
      "text/html": [
       "<div>\n",
       "<style scoped>\n",
       "    .dataframe tbody tr th:only-of-type {\n",
       "        vertical-align: middle;\n",
       "    }\n",
       "\n",
       "    .dataframe tbody tr th {\n",
       "        vertical-align: top;\n",
       "    }\n",
       "\n",
       "    .dataframe thead th {\n",
       "        text-align: right;\n",
       "    }\n",
       "</style>\n",
       "<table border=\"1\" class=\"dataframe\">\n",
       "  <thead>\n",
       "    <tr style=\"text-align: right;\">\n",
       "      <th></th>\n",
       "      <th>Product</th>\n",
       "      <th>Total Order</th>\n",
       "    </tr>\n",
       "  </thead>\n",
       "  <tbody>\n",
       "    <tr>\n",
       "      <th>0</th>\n",
       "      <td>20in Monitor</td>\n",
       "      <td>4129.0</td>\n",
       "    </tr>\n",
       "    <tr>\n",
       "      <th>1</th>\n",
       "      <td>27in 4K Gaming Monitor</td>\n",
       "      <td>6244.0</td>\n",
       "    </tr>\n",
       "    <tr>\n",
       "      <th>2</th>\n",
       "      <td>27in FHD Monitor</td>\n",
       "      <td>7550.0</td>\n",
       "    </tr>\n",
       "    <tr>\n",
       "      <th>3</th>\n",
       "      <td>34in Ultrawide Monitor</td>\n",
       "      <td>6199.0</td>\n",
       "    </tr>\n",
       "    <tr>\n",
       "      <th>4</th>\n",
       "      <td>AA Batteries (4-pack)</td>\n",
       "      <td>27635.0</td>\n",
       "    </tr>\n",
       "    <tr>\n",
       "      <th>5</th>\n",
       "      <td>AAA Batteries (4-pack)</td>\n",
       "      <td>31017.0</td>\n",
       "    </tr>\n",
       "    <tr>\n",
       "      <th>6</th>\n",
       "      <td>Apple Airpods Headphones</td>\n",
       "      <td>15661.0</td>\n",
       "    </tr>\n",
       "    <tr>\n",
       "      <th>7</th>\n",
       "      <td>Bose SoundSport Headphones</td>\n",
       "      <td>13457.0</td>\n",
       "    </tr>\n",
       "    <tr>\n",
       "      <th>8</th>\n",
       "      <td>Flatscreen TV</td>\n",
       "      <td>4819.0</td>\n",
       "    </tr>\n",
       "    <tr>\n",
       "      <th>9</th>\n",
       "      <td>Google Phone</td>\n",
       "      <td>5532.0</td>\n",
       "    </tr>\n",
       "    <tr>\n",
       "      <th>10</th>\n",
       "      <td>LG Dryer</td>\n",
       "      <td>646.0</td>\n",
       "    </tr>\n",
       "    <tr>\n",
       "      <th>11</th>\n",
       "      <td>LG Washing Machine</td>\n",
       "      <td>666.0</td>\n",
       "    </tr>\n",
       "    <tr>\n",
       "      <th>12</th>\n",
       "      <td>Lightning Charging Cable</td>\n",
       "      <td>23217.0</td>\n",
       "    </tr>\n",
       "    <tr>\n",
       "      <th>13</th>\n",
       "      <td>Macbook Pro Laptop</td>\n",
       "      <td>4728.0</td>\n",
       "    </tr>\n",
       "    <tr>\n",
       "      <th>14</th>\n",
       "      <td>ThinkPad Laptop</td>\n",
       "      <td>4130.0</td>\n",
       "    </tr>\n",
       "    <tr>\n",
       "      <th>15</th>\n",
       "      <td>USB-C Charging Cable</td>\n",
       "      <td>23975.0</td>\n",
       "    </tr>\n",
       "    <tr>\n",
       "      <th>16</th>\n",
       "      <td>Vareebadd Phone</td>\n",
       "      <td>2068.0</td>\n",
       "    </tr>\n",
       "    <tr>\n",
       "      <th>17</th>\n",
       "      <td>Wired Headphones</td>\n",
       "      <td>20557.0</td>\n",
       "    </tr>\n",
       "    <tr>\n",
       "      <th>18</th>\n",
       "      <td>iPhone</td>\n",
       "      <td>6849.0</td>\n",
       "    </tr>\n",
       "  </tbody>\n",
       "</table>\n",
       "</div>"
      ],
      "text/plain": [
       "                       Product  Total Order\n",
       "0                 20in Monitor       4129.0\n",
       "1       27in 4K Gaming Monitor       6244.0\n",
       "2             27in FHD Monitor       7550.0\n",
       "3       34in Ultrawide Monitor       6199.0\n",
       "4        AA Batteries (4-pack)      27635.0\n",
       "5       AAA Batteries (4-pack)      31017.0\n",
       "6     Apple Airpods Headphones      15661.0\n",
       "7   Bose SoundSport Headphones      13457.0\n",
       "8                Flatscreen TV       4819.0\n",
       "9                 Google Phone       5532.0\n",
       "10                    LG Dryer        646.0\n",
       "11          LG Washing Machine        666.0\n",
       "12    Lightning Charging Cable      23217.0\n",
       "13          Macbook Pro Laptop       4728.0\n",
       "14             ThinkPad Laptop       4130.0\n",
       "15        USB-C Charging Cable      23975.0\n",
       "16             Vareebadd Phone       2068.0\n",
       "17            Wired Headphones      20557.0\n",
       "18                      iPhone       6849.0"
      ]
     },
     "execution_count": 38,
     "metadata": {},
     "output_type": "execute_result"
    }
   ],
   "source": [
    "product_result=combine_data.groupby('Product')['Quantity Ordered'].sum().reset_index(name='Total Order')\n",
    "product_result"
   ]
  },
  {
   "cell_type": "markdown",
   "id": "65b4f38a",
   "metadata": {},
   "source": [
    "## Plotting graph for Product order"
   ]
  },
  {
   "cell_type": "code",
   "execution_count": 39,
   "id": "3190ef8d",
   "metadata": {},
   "outputs": [
    {
     "data": {
      "image/png": "[encoded data removed]",
      "text/plain": [
       "<Figure size 640x480 with 1 Axes>"
      ]
     },
     "metadata": {},
     "output_type": "display_data"
    }
   ],
   "source": [
    "\n",
    "plt.bar(product_result['Product'],product_result['Total Order'],color='darkslategrey')# plotting graph\n",
    "plt.xticks(rotation=90,size=7)\n",
    "plt.ylabel('Ordered Quantity')# for y label\n",
    "plt.xlabel('Product Name')# for x lebel\n",
    "plt.title('2019 Product Sales Comparison (ABC Company)') #for title of bar graph\n",
    "plt.show()"
   ]
  },
  {
   "cell_type": "markdown",
   "id": "25953b54",
   "metadata": {},
   "source": [
    "From the graph we can see that **AAA Batteries (4-pack)** has highest order while **LG DRYER** has lowest order"
   ]
  },
  {
   "cell_type": "markdown",
   "id": "eb262aa8",
   "metadata": {},
   "source": [
    "# Histogram Plot\n",
    "\n",
    "**Histogram**\n",
    ": A histogram is a graphical representation of data that displays the distribution of numerical data. It is a type of bar chart that shows the frequency distribution of a set of continuous or discrete data.\n"
   ]
  },
  {
   "cell_type": "markdown",
   "id": "e23373b7",
   "metadata": {},
   "source": [
    "## Histogram of hour\n",
    "\n",
    "1. Firstly the hour from order date is fetched and then stored in the new columnn called hour\n",
    "2. Then it is plot into histogram"
   ]
  },
  {
   "cell_type": "code",
   "execution_count": 40,
   "id": "746f6a38",
   "metadata": {},
   "outputs": [
    {
     "data": {
      "text/html": [
       "<div>\n",
       "<style scoped>\n",
       "    .dataframe tbody tr th:only-of-type {\n",
       "        vertical-align: middle;\n",
       "    }\n",
       "\n",
       "    .dataframe tbody tr th {\n",
       "        vertical-align: top;\n",
       "    }\n",
       "\n",
       "    .dataframe thead th {\n",
       "        text-align: right;\n",
       "    }\n",
       "</style>\n",
       "<table border=\"1\" class=\"dataframe\">\n",
       "  <thead>\n",
       "    <tr style=\"text-align: right;\">\n",
       "      <th></th>\n",
       "      <th>Unnamed: 0.1</th>\n",
       "      <th>Unnamed: 0</th>\n",
       "      <th>Order ID</th>\n",
       "      <th>Product</th>\n",
       "      <th>Quantity Ordered</th>\n",
       "      <th>Price Each</th>\n",
       "      <th>Order Date</th>\n",
       "      <th>Purchase Address</th>\n",
       "      <th>Month</th>\n",
       "      <th>City</th>\n",
       "      <th>Total Sales</th>\n",
       "      <th>hour</th>\n",
       "    </tr>\n",
       "  </thead>\n",
       "  <tbody>\n",
       "    <tr>\n",
       "      <th>0</th>\n",
       "      <td>0</td>\n",
       "      <td>0.0</td>\n",
       "      <td>176558.0</td>\n",
       "      <td>USB-C Charging Cable</td>\n",
       "      <td>2.0</td>\n",
       "      <td>11.95</td>\n",
       "      <td>4/19/2019 8:46</td>\n",
       "      <td>917 1st St, Dallas, TX 75001</td>\n",
       "      <td>4</td>\n",
       "      <td>Dallas</td>\n",
       "      <td>23.90</td>\n",
       "      <td>8</td>\n",
       "    </tr>\n",
       "    <tr>\n",
       "      <th>2</th>\n",
       "      <td>2</td>\n",
       "      <td>2.0</td>\n",
       "      <td>176559.0</td>\n",
       "      <td>Bose SoundSport Headphones</td>\n",
       "      <td>1.0</td>\n",
       "      <td>99.99</td>\n",
       "      <td>4/7/2019 22:30</td>\n",
       "      <td>682 Chestnut St, Boston, MA 02215</td>\n",
       "      <td>4</td>\n",
       "      <td>Boston</td>\n",
       "      <td>99.99</td>\n",
       "      <td>22</td>\n",
       "    </tr>\n",
       "    <tr>\n",
       "      <th>3</th>\n",
       "      <td>3</td>\n",
       "      <td>3.0</td>\n",
       "      <td>176560.0</td>\n",
       "      <td>Google Phone</td>\n",
       "      <td>1.0</td>\n",
       "      <td>600.00</td>\n",
       "      <td>4/12/2019 14:38</td>\n",
       "      <td>669 Spruce St, Los Angeles, CA 90001</td>\n",
       "      <td>4</td>\n",
       "      <td>Los Angeles</td>\n",
       "      <td>600.00</td>\n",
       "      <td>14</td>\n",
       "    </tr>\n",
       "    <tr>\n",
       "      <th>4</th>\n",
       "      <td>4</td>\n",
       "      <td>4.0</td>\n",
       "      <td>176560.0</td>\n",
       "      <td>Wired Headphones</td>\n",
       "      <td>1.0</td>\n",
       "      <td>11.99</td>\n",
       "      <td>4/12/2019 14:38</td>\n",
       "      <td>669 Spruce St, Los Angeles, CA 90001</td>\n",
       "      <td>4</td>\n",
       "      <td>Los Angeles</td>\n",
       "      <td>11.99</td>\n",
       "      <td>14</td>\n",
       "    </tr>\n",
       "    <tr>\n",
       "      <th>5</th>\n",
       "      <td>5</td>\n",
       "      <td>5.0</td>\n",
       "      <td>176561.0</td>\n",
       "      <td>Wired Headphones</td>\n",
       "      <td>1.0</td>\n",
       "      <td>11.99</td>\n",
       "      <td>4/30/2019 9:27</td>\n",
       "      <td>333 8th St, Los Angeles, CA 90001</td>\n",
       "      <td>4</td>\n",
       "      <td>Los Angeles</td>\n",
       "      <td>11.99</td>\n",
       "      <td>9</td>\n",
       "    </tr>\n",
       "  </tbody>\n",
       "</table>\n",
       "</div>"
      ],
      "text/plain": [
       "   Unnamed: 0.1  Unnamed: 0  Order ID                     Product  \\\n",
       "0             0         0.0  176558.0        USB-C Charging Cable   \n",
       "2             2         2.0  176559.0  Bose SoundSport Headphones   \n",
       "3             3         3.0  176560.0                Google Phone   \n",
       "4             4         4.0  176560.0            Wired Headphones   \n",
       "5             5         5.0  176561.0            Wired Headphones   \n",
       "\n",
       "   Quantity Ordered  Price Each       Order Date  \\\n",
       "0               2.0       11.95   4/19/2019 8:46   \n",
       "2               1.0       99.99   4/7/2019 22:30   \n",
       "3               1.0      600.00  4/12/2019 14:38   \n",
       "4               1.0       11.99  4/12/2019 14:38   \n",
       "5               1.0       11.99   4/30/2019 9:27   \n",
       "\n",
       "                       Purchase Address  Month          City  Total Sales  \\\n",
       "0          917 1st St, Dallas, TX 75001      4        Dallas        23.90   \n",
       "2     682 Chestnut St, Boston, MA 02215      4        Boston        99.99   \n",
       "3  669 Spruce St, Los Angeles, CA 90001      4   Los Angeles       600.00   \n",
       "4  669 Spruce St, Los Angeles, CA 90001      4   Los Angeles        11.99   \n",
       "5     333 8th St, Los Angeles, CA 90001      4   Los Angeles        11.99   \n",
       "\n",
       "   hour  \n",
       "0     8  \n",
       "2    22  \n",
       "3    14  \n",
       "4    14  \n",
       "5     9  "
      ]
     },
     "execution_count": 40,
     "metadata": {},
     "output_type": "execute_result"
    }
   ],
   "source": [
    "combine_data['hour'] = pd.to_datetime(combine_data['Order Date']).dt.hour\n",
    "combine_data.head()"
   ]
  },
  {
   "cell_type": "code",
   "execution_count": 41,
   "id": "36e9dcee",
   "metadata": {},
   "outputs": [
    {
     "data": {
      "image/png": "[encoded data removed]",
      "text/plain": [
       "<Figure size 640x480 with 1 Axes>"
      ]
     },
     "metadata": {},
     "output_type": "display_data"
    }
   ],
   "source": [
    "plt.hist(combine_data['hour'])# for plotting histogram\n",
    "\n",
    "\n",
    "plt.xlabel('hours')# gives label for x axis\n",
    "plt.ylabel('frequency')# gives label for y axis\n",
    "plt.title('Histogram of hour')# gives the title to histogram\n",
    "\n",
    "plt.show()\n"
   ]
  },
  {
   "cell_type": "markdown",
   "id": "2a384208",
   "metadata": {},
   "source": [
    "## Histogram of Quantity Ordered\n",
    "\n",
    "In the same way as plotting histogram of hour histogram of Quantity Ordered is plot.\n",
    "\n",
    "\n",
    "\n"
   ]
  },
  {
   "cell_type": "code",
   "execution_count": 42,
   "id": "4ee3b3e3",
   "metadata": {},
   "outputs": [
    {
     "data": {
      "image/png": "[encoded data removed]",
      "text/plain": [
       "<Figure size 640x480 with 1 Axes>"
      ]
     },
     "metadata": {},
     "output_type": "display_data"
    }
   ],
   "source": [
    "plt.hist(combine_data['Quantity Ordered']) # for plotting histogram\n",
    "\n",
    "\n",
    "plt.xlabel('Quantity Ordered')# gives label for x axis\n",
    "plt.ylabel('frequency')# gives label for y axis\n",
    "plt.title('Histogram of Quantity Ordered') # gives the title to histogram\n",
    "\n",
    "plt.show()"
   ]
  },
  {
   "cell_type": "code",
   "execution_count": 52,
   "id": "839831ee",
   "metadata": {},
   "outputs": [
    {
     "data": {
      "text/html": [
       "<div>\n",
       "<style scoped>\n",
       "    .dataframe tbody tr th:only-of-type {\n",
       "        vertical-align: middle;\n",
       "    }\n",
       "\n",
       "    .dataframe tbody tr th {\n",
       "        vertical-align: top;\n",
       "    }\n",
       "\n",
       "    .dataframe thead th {\n",
       "        text-align: right;\n",
       "    }\n",
       "</style>\n",
       "<table border=\"1\" class=\"dataframe\">\n",
       "  <thead>\n",
       "    <tr style=\"text-align: right;\">\n",
       "      <th></th>\n",
       "      <th>Unnamed: 0.1</th>\n",
       "      <th>Unnamed: 0</th>\n",
       "      <th>Order ID</th>\n",
       "      <th>Products</th>\n",
       "      <th>Quantity Ordered</th>\n",
       "      <th>Price Each</th>\n",
       "      <th>Order Date</th>\n",
       "      <th>Purchase Address</th>\n",
       "      <th>Month</th>\n",
       "      <th>City</th>\n",
       "      <th>Total Sales</th>\n",
       "      <th>hour</th>\n",
       "    </tr>\n",
       "  </thead>\n",
       "  <tbody>\n",
       "    <tr>\n",
       "      <th>0</th>\n",
       "      <td>0</td>\n",
       "      <td>0.0</td>\n",
       "      <td>176558.0</td>\n",
       "      <td>USB-C Charging Cable</td>\n",
       "      <td>2.0</td>\n",
       "      <td>11.95</td>\n",
       "      <td>4/19/2019 8:46</td>\n",
       "      <td>917 1st St, Dallas, TX 75001</td>\n",
       "      <td>4</td>\n",
       "      <td>Dallas</td>\n",
       "      <td>23.90</td>\n",
       "      <td>8</td>\n",
       "    </tr>\n",
       "    <tr>\n",
       "      <th>2</th>\n",
       "      <td>2</td>\n",
       "      <td>2.0</td>\n",
       "      <td>176559.0</td>\n",
       "      <td>Bose SoundSport Headphones</td>\n",
       "      <td>1.0</td>\n",
       "      <td>99.99</td>\n",
       "      <td>4/7/2019 22:30</td>\n",
       "      <td>682 Chestnut St, Boston, MA 02215</td>\n",
       "      <td>4</td>\n",
       "      <td>Boston</td>\n",
       "      <td>99.99</td>\n",
       "      <td>22</td>\n",
       "    </tr>\n",
       "    <tr>\n",
       "      <th>3</th>\n",
       "      <td>3</td>\n",
       "      <td>3.0</td>\n",
       "      <td>176560.0</td>\n",
       "      <td>Google Phone</td>\n",
       "      <td>1.0</td>\n",
       "      <td>600.00</td>\n",
       "      <td>4/12/2019 14:38</td>\n",
       "      <td>669 Spruce St, Los Angeles, CA 90001</td>\n",
       "      <td>4</td>\n",
       "      <td>Los Angeles</td>\n",
       "      <td>600.00</td>\n",
       "      <td>14</td>\n",
       "    </tr>\n",
       "    <tr>\n",
       "      <th>4</th>\n",
       "      <td>4</td>\n",
       "      <td>4.0</td>\n",
       "      <td>176560.0</td>\n",
       "      <td>Wired Headphones</td>\n",
       "      <td>1.0</td>\n",
       "      <td>11.99</td>\n",
       "      <td>4/12/2019 14:38</td>\n",
       "      <td>669 Spruce St, Los Angeles, CA 90001</td>\n",
       "      <td>4</td>\n",
       "      <td>Los Angeles</td>\n",
       "      <td>11.99</td>\n",
       "      <td>14</td>\n",
       "    </tr>\n",
       "    <tr>\n",
       "      <th>5</th>\n",
       "      <td>5</td>\n",
       "      <td>5.0</td>\n",
       "      <td>176561.0</td>\n",
       "      <td>Wired Headphones</td>\n",
       "      <td>1.0</td>\n",
       "      <td>11.99</td>\n",
       "      <td>4/30/2019 9:27</td>\n",
       "      <td>333 8th St, Los Angeles, CA 90001</td>\n",
       "      <td>4</td>\n",
       "      <td>Los Angeles</td>\n",
       "      <td>11.99</td>\n",
       "      <td>9</td>\n",
       "    </tr>\n",
       "    <tr>\n",
       "      <th>...</th>\n",
       "      <td>...</td>\n",
       "      <td>...</td>\n",
       "      <td>...</td>\n",
       "      <td>...</td>\n",
       "      <td>...</td>\n",
       "      <td>...</td>\n",
       "      <td>...</td>\n",
       "      <td>...</td>\n",
       "      <td>...</td>\n",
       "      <td>...</td>\n",
       "      <td>...</td>\n",
       "      <td>...</td>\n",
       "    </tr>\n",
       "    <tr>\n",
       "      <th>186845</th>\n",
       "      <td>186845</td>\n",
       "      <td>11681.0</td>\n",
       "      <td>259353.0</td>\n",
       "      <td>AAA Batteries (4-pack)</td>\n",
       "      <td>3.0</td>\n",
       "      <td>2.99</td>\n",
       "      <td>9/17/2019 20:56</td>\n",
       "      <td>840 Highland St, Los Angeles, CA 90001</td>\n",
       "      <td>9</td>\n",
       "      <td>Los Angeles</td>\n",
       "      <td>8.97</td>\n",
       "      <td>20</td>\n",
       "    </tr>\n",
       "    <tr>\n",
       "      <th>186846</th>\n",
       "      <td>186846</td>\n",
       "      <td>11682.0</td>\n",
       "      <td>259354.0</td>\n",
       "      <td>iPhone</td>\n",
       "      <td>1.0</td>\n",
       "      <td>700.00</td>\n",
       "      <td>9/1/2019 16:00</td>\n",
       "      <td>216 Dogwood St, San Francisco, CA 94016</td>\n",
       "      <td>9</td>\n",
       "      <td>San Francisco</td>\n",
       "      <td>700.00</td>\n",
       "      <td>16</td>\n",
       "    </tr>\n",
       "    <tr>\n",
       "      <th>186847</th>\n",
       "      <td>186847</td>\n",
       "      <td>11683.0</td>\n",
       "      <td>259355.0</td>\n",
       "      <td>iPhone</td>\n",
       "      <td>1.0</td>\n",
       "      <td>700.00</td>\n",
       "      <td>9/23/2019 7:39</td>\n",
       "      <td>220 12th St, San Francisco, CA 94016</td>\n",
       "      <td>9</td>\n",
       "      <td>San Francisco</td>\n",
       "      <td>700.00</td>\n",
       "      <td>7</td>\n",
       "    </tr>\n",
       "    <tr>\n",
       "      <th>186848</th>\n",
       "      <td>186848</td>\n",
       "      <td>11684.0</td>\n",
       "      <td>259356.0</td>\n",
       "      <td>34in Ultrawide Monitor</td>\n",
       "      <td>1.0</td>\n",
       "      <td>379.99</td>\n",
       "      <td>9/19/2019 17:30</td>\n",
       "      <td>511 Forest St, San Francisco, CA 94016</td>\n",
       "      <td>9</td>\n",
       "      <td>San Francisco</td>\n",
       "      <td>379.99</td>\n",
       "      <td>17</td>\n",
       "    </tr>\n",
       "    <tr>\n",
       "      <th>186849</th>\n",
       "      <td>186849</td>\n",
       "      <td>11685.0</td>\n",
       "      <td>259357.0</td>\n",
       "      <td>USB-C Charging Cable</td>\n",
       "      <td>1.0</td>\n",
       "      <td>11.95</td>\n",
       "      <td>9/30/2019 0:18</td>\n",
       "      <td>250 Meadow St, San Francisco, CA 94016</td>\n",
       "      <td>9</td>\n",
       "      <td>San Francisco</td>\n",
       "      <td>11.95</td>\n",
       "      <td>0</td>\n",
       "    </tr>\n",
       "  </tbody>\n",
       "</table>\n",
       "<p>185950 rows × 12 columns</p>\n",
       "</div>"
      ],
      "text/plain": [
       "        Unnamed: 0.1  Unnamed: 0  Order ID                    Products  \\\n",
       "0                  0         0.0  176558.0        USB-C Charging Cable   \n",
       "2                  2         2.0  176559.0  Bose SoundSport Headphones   \n",
       "3                  3         3.0  176560.0                Google Phone   \n",
       "4                  4         4.0  176560.0            Wired Headphones   \n",
       "5                  5         5.0  176561.0            Wired Headphones   \n",
       "...              ...         ...       ...                         ...   \n",
       "186845        186845     11681.0  259353.0      AAA Batteries (4-pack)   \n",
       "186846        186846     11682.0  259354.0                      iPhone   \n",
       "186847        186847     11683.0  259355.0                      iPhone   \n",
       "186848        186848     11684.0  259356.0      34in Ultrawide Monitor   \n",
       "186849        186849     11685.0  259357.0        USB-C Charging Cable   \n",
       "\n",
       "        Quantity Ordered  Price Each       Order Date  \\\n",
       "0                    2.0       11.95   4/19/2019 8:46   \n",
       "2                    1.0       99.99   4/7/2019 22:30   \n",
       "3                    1.0      600.00  4/12/2019 14:38   \n",
       "4                    1.0       11.99  4/12/2019 14:38   \n",
       "5                    1.0       11.99   4/30/2019 9:27   \n",
       "...                  ...         ...              ...   \n",
       "186845               3.0        2.99  9/17/2019 20:56   \n",
       "186846               1.0      700.00   9/1/2019 16:00   \n",
       "186847               1.0      700.00   9/23/2019 7:39   \n",
       "186848               1.0      379.99  9/19/2019 17:30   \n",
       "186849               1.0       11.95   9/30/2019 0:18   \n",
       "\n",
       "                               Purchase Address  Month            City  \\\n",
       "0                  917 1st St, Dallas, TX 75001      4          Dallas   \n",
       "2             682 Chestnut St, Boston, MA 02215      4          Boston   \n",
       "3          669 Spruce St, Los Angeles, CA 90001      4     Los Angeles   \n",
       "4          669 Spruce St, Los Angeles, CA 90001      4     Los Angeles   \n",
       "5             333 8th St, Los Angeles, CA 90001      4     Los Angeles   \n",
       "...                                         ...    ...             ...   \n",
       "186845   840 Highland St, Los Angeles, CA 90001      9     Los Angeles   \n",
       "186846  216 Dogwood St, San Francisco, CA 94016      9   San Francisco   \n",
       "186847     220 12th St, San Francisco, CA 94016      9   San Francisco   \n",
       "186848   511 Forest St, San Francisco, CA 94016      9   San Francisco   \n",
       "186849   250 Meadow St, San Francisco, CA 94016      9   San Francisco   \n",
       "\n",
       "        Total Sales  hour  \n",
       "0             23.90     8  \n",
       "2             99.99    22  \n",
       "3            600.00    14  \n",
       "4             11.99    14  \n",
       "5             11.99     9  \n",
       "...             ...   ...  \n",
       "186845         8.97    20  \n",
       "186846       700.00    16  \n",
       "186847       700.00     7  \n",
       "186848       379.99    17  \n",
       "186849        11.95     0  \n",
       "\n",
       "[185950 rows x 12 columns]"
      ]
     },
     "execution_count": 52,
     "metadata": {},
     "output_type": "execute_result"
    }
   ],
   "source": [
    "combine_data.columns=['Unnamed: 0.1', 'Unnamed: 0', 'Order ID', 'Products', 'Quantity Ordered',\n",
    "       'Price Each', 'Order Date', 'Purchase Address', 'Month', 'City',\n",
    "       'Total Sales', 'hour']\n",
    "\n",
    "combine_data"
   ]
  },
  {
   "cell_type": "code",
   "execution_count": null,
   "id": "af8d45f3",
   "metadata": {},
   "outputs": [],
   "source": []
  }
 ],
 "metadata": {
  "kernelspec": {
   "display_name": "Python 3 (ipykernel)",
   "language": "python",
   "name": "python3"
  },
  "language_info": {
   "codemirror_mode": {
    "name": "ipython",
    "version": 3
   },
   "file_extension": ".py",
   "mimetype": "text/x-python",
   "name": "python",
   "nbconvert_exporter": "python",
   "pygments_lexer": "ipython3",
   "version": "3.9.13"
  }
 },
 "nbformat": 4,
 "nbformat_minor": 5
}
